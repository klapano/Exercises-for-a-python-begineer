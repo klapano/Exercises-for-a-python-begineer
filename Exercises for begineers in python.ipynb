{
 "cells": [
  {
   "cell_type": "markdown",
   "id": "61222438",
   "metadata": {},
   "source": [
    "# exercise 1"
   ]
  },
  {
   "cell_type": "code",
   "execution_count": null,
   "id": "4a397579",
   "metadata": {},
   "outputs": [],
   "source": [
    "a = 5\n",
    "b = 225\n",
    "y = a + b\n",
    "print(y)"
   ]
  },
  {
   "cell_type": "code",
   "execution_count": 3,
   "id": "ff14c41b",
   "metadata": {},
   "outputs": [
    {
     "name": "stdout",
     "output_type": "stream",
     "text": [
      "2.3333333333333335\n"
     ]
    }
   ],
   "source": [
    "a = 7\n",
    "b = 3\n",
    "y = 7/3\n",
    "print(y)"
   ]
  },
  {
   "cell_type": "code",
   "execution_count": 4,
   "id": "e484a64f",
   "metadata": {},
   "outputs": [
    {
     "name": "stdout",
     "output_type": "stream",
     "text": [
      "7//3= 2\n"
     ]
    }
   ],
   "source": [
    "a = 7\n",
    "b = 3\n",
    "y = 7//3\n",
    "print(\"7//3=\", y)"
   ]
  },
  {
   "cell_type": "code",
   "execution_count": 5,
   "id": "9f2e088b",
   "metadata": {},
   "outputs": [
    {
     "name": "stdout",
     "output_type": "stream",
     "text": [
      "7mod3= 1\n"
     ]
    }
   ],
   "source": [
    "a = 7\n",
    "b = 3\n",
    "y = 7%3\n",
    "print(\"7mod3=\", y)"
   ]
  },
  {
   "cell_type": "markdown",
   "id": "8579a76b",
   "metadata": {},
   "source": [
    "# exercise2"
   ]
  },
  {
   "cell_type": "code",
   "execution_count": 7,
   "id": "c7563b4b",
   "metadata": {},
   "outputs": [
    {
     "name": "stdout",
     "output_type": "stream",
     "text": [
      "----------------------------------------\n"
     ]
    }
   ],
   "source": [
    "print('-'* 40)"
   ]
  },
  {
   "cell_type": "markdown",
   "id": "317389c4",
   "metadata": {},
   "source": [
    "# exercise 3"
   ]
  },
  {
   "cell_type": "code",
   "execution_count": 58,
   "id": "043b87dd",
   "metadata": {},
   "outputs": [
    {
     "name": "stdout",
     "output_type": "stream",
     "text": [
      "John is a great web developer\t    \n"
     ]
    }
   ],
   "source": [
    "str =\"John=is-a-great web developer\\t    \"\n",
    "str = str.replace('=',' ')\n",
    "str1 = str.replace('-',' ')\n",
    "print(str1)"
   ]
  },
  {
   "cell_type": "markdown",
   "id": "a34f3cc8",
   "metadata": {},
   "source": [
    "# exercise 4"
   ]
  },
  {
   "cell_type": "code",
   "execution_count": 5,
   "id": "7dca8d4b",
   "metadata": {},
   "outputs": [
    {
     "name": "stdout",
     "output_type": "stream",
     "text": [
      "what is your first name?  Klaudio\n",
      "what is your last name?   Pano\n",
      "what is your age?   27\n",
      "what is your occupation?  unemployed\n",
      "new user  Klaudio   Pano   27  years old  unemployed  has been registered in the system\n"
     ]
    }
   ],
   "source": [
    "first_name = input(\"what is your first name?\")\n",
    "last_name = input(\"what is your last name?\")\n",
    "age = input(\"what is your age?\")\n",
    "occupation = input(\"what is your occupation?\")\n",
    "print(\"new user\" + first_name + last_name + age + \"  \" + \"years old\" + occupation + \"  \" + \"has been registered in the system\")"
   ]
  },
  {
   "cell_type": "markdown",
   "id": "8f78cebd",
   "metadata": {},
   "source": [
    "# exercise 5"
   ]
  },
  {
   "cell_type": "code",
   "execution_count": 8,
   "id": "0368742a",
   "metadata": {},
   "outputs": [
    {
     "name": "stdout",
     "output_type": "stream",
     "text": [
      "Enter number: 10\n",
      "The multiples are: \n",
      "10 20 30 40 50 60 70 80 90 100 "
     ]
    }
   ],
   "source": [
    "n = int(input(\"Enter number: \"))\n",
    " \n",
    "print(\"The multiples are: \")\n",
    "for i in range(1,11):\n",
    "    print(n*i, end =\" \")"
   ]
  },
  {
   "cell_type": "markdown",
   "id": "72d84adf",
   "metadata": {},
   "source": [
    "# exercise 6"
   ]
  },
  {
   "cell_type": "code",
   "execution_count": 14,
   "id": "ab6e6d79",
   "metadata": {},
   "outputs": [
    {
     "name": "stdout",
     "output_type": "stream",
     "text": [
      "14490\n"
     ]
    }
   ],
   "source": [
    "a = 1 # not number zero cause anything mutiple with zero is going to get us zero\n",
    "x = [3,5,23,6,7]\n",
    "for i in x:\n",
    "    a *= i\n",
    "print(a)"
   ]
  },
  {
   "cell_type": "markdown",
   "id": "1a675748",
   "metadata": {},
   "source": [
    "# exercise 7"
   ]
  },
  {
   "cell_type": "code",
   "execution_count": 22,
   "id": "ab546d58",
   "metadata": {},
   "outputs": [
    {
     "name": "stdout",
     "output_type": "stream",
     "text": [
      "enter an interger10\n",
      "55\n"
     ]
    }
   ],
   "source": [
    "n = int(input(\"enter an interger\"))\n",
    "sum_n = 0\n",
    "for i in range(1,n+1):\n",
    "    sum_n = sum_n + i\n",
    "print(sum_n)    "
   ]
  },
  {
   "cell_type": "markdown",
   "id": "20a80247",
   "metadata": {},
   "source": [
    "# exercise 8"
   ]
  },
  {
   "cell_type": "code",
   "execution_count": 27,
   "id": "303eeacb",
   "metadata": {},
   "outputs": [
    {
     "name": "stdout",
     "output_type": "stream",
     "text": [
      "The second largest element of the list is: 77\n"
     ]
    }
   ],
   "source": [
    "x = [44,32,65,77,12,86]\n",
    "x.sort()\n",
    "print(\"The second largest element of the list is:\", x[-2])"
   ]
  },
  {
   "cell_type": "markdown",
   "id": "b9e574fb",
   "metadata": {},
   "source": [
    "# exercise 9"
   ]
  },
  {
   "cell_type": "code",
   "execution_count": 29,
   "id": "472ce367",
   "metadata": {},
   "outputs": [
    {
     "name": "stdout",
     "output_type": "stream",
     "text": [
      "Apple-Grapes-Berry-Orange\n"
     ]
    }
   ],
   "source": [
    "fruits = ['Apple', 'Grapes', 'Berry', 'Orange']\n",
    "print(\"-\".join(fruits))"
   ]
  },
  {
   "cell_type": "markdown",
   "id": "68ad2b23",
   "metadata": {},
   "source": [
    "# exercise 10"
   ]
  },
  {
   "cell_type": "code",
   "execution_count": 30,
   "id": "1f0c88fb",
   "metadata": {},
   "outputs": [
    {
     "name": "stdout",
     "output_type": "stream",
     "text": [
      "[32, 3, 5, 4, 2, 6, 7, 8]\n"
     ]
    }
   ],
   "source": [
    "x = [32,3,5,4,4,3,2,6,4,5,6,7,8]\n",
    "x1 = []\n",
    "for i in x:\n",
    "    if i not in x1:\n",
    "        x1.append(i)\n",
    "x = x1\n",
    "print(x)"
   ]
  },
  {
   "cell_type": "markdown",
   "id": "7de15eb4",
   "metadata": {},
   "source": [
    "# exercise 11"
   ]
  },
  {
   "cell_type": "code",
   "execution_count": 42,
   "id": "17df3619",
   "metadata": {},
   "outputs": [
    {
     "name": "stdout",
     "output_type": "stream",
     "text": [
      "['Data Science']\n"
     ]
    }
   ],
   "source": [
    "lst = [1,2,[3,4],[5,[100,200,['Data Science']],23,11],1,7]\n",
    "print(lst[3][1][2])"
   ]
  },
  {
   "cell_type": "markdown",
   "id": "61b55e53",
   "metadata": {},
   "source": [
    "# exercise 12 "
   ]
  },
  {
   "cell_type": "code",
   "execution_count": 53,
   "id": "3199a840",
   "metadata": {},
   "outputs": [
    {
     "name": "stdout",
     "output_type": "stream",
     "text": [
      "{1, 2, 7, 8} {0, 3, 9}\n"
     ]
    }
   ],
   "source": [
    "x = [2,4,5,6,7,1,6,8]\n",
    "y = [3,4,5,6,0,3,9]\n",
    "z = set(x).difference(y)\n",
    "c = set(y).difference(x)\n",
    "print(z,c)"
   ]
  },
  {
   "cell_type": "markdown",
   "id": "29197678",
   "metadata": {},
   "source": [
    "# exercise 13"
   ]
  },
  {
   "cell_type": "code",
   "execution_count": 126,
   "id": "3267726c",
   "metadata": {},
   "outputs": [
    {
     "name": "stdout",
     "output_type": "stream",
     "text": [
      "[4, 67, 8, 0, 32, 0, 21]\n"
     ]
    }
   ],
   "source": [
    "x = [4,67,8, 'None', 32, 'Missing', 21]\n",
    "x[3] = 0\n",
    "x[5] = 0\n",
    "print(x)"
   ]
  },
  {
   "cell_type": "markdown",
   "id": "a70f97af",
   "metadata": {},
   "source": [
    "# exercise 14"
   ]
  },
  {
   "cell_type": "code",
   "execution_count": 72,
   "id": "58ad9bf7",
   "metadata": {},
   "outputs": [
    {
     "name": "stdout",
     "output_type": "stream",
     "text": [
      "['1', '2', '[', '3', ',', ' ', '4', ']', '5', '6']\n"
     ]
    }
   ],
   "source": [
    "lists = [1,2,[3,4],5,6]\n",
    "\n",
    "\n",
    "new_lists = []\n",
    "\n",
    "for i in lists:\n",
    "    for j in str(i):\n",
    "        new_lists.append(j)\n",
    "        \n",
    "print(new_lists)      \n",
    "    "
   ]
  },
  {
   "cell_type": "markdown",
   "id": "927c9c29",
   "metadata": {},
   "source": [
    "# exercise 15"
   ]
  },
  {
   "cell_type": "code",
   "execution_count": 49,
   "id": "5d4a2af8",
   "metadata": {},
   "outputs": [
    {
     "name": "stdout",
     "output_type": "stream",
     "text": [
      "[32, 2, 3, 4, 5, 6, 7, 8]\n"
     ]
    }
   ],
   "source": [
    "x = [32,3,5,4,4,3,2,6,4,5,6,7,8]\n",
    "y = [*set(x)]\n",
    "print(y)"
   ]
  },
  {
   "cell_type": "markdown",
   "id": "b5d7780f",
   "metadata": {},
   "source": [
    "# exercise 16"
   ]
  },
  {
   "cell_type": "code",
   "execution_count": 55,
   "id": "2c0f8b86",
   "metadata": {},
   "outputs": [
    {
     "name": "stdout",
     "output_type": "stream",
     "text": [
      "{1, 2, 7, 8}\n"
     ]
    }
   ],
   "source": [
    "x = [2,4,5,6,7,1,6,8]\n",
    "y = [3,4,5,6,0,3,9]\n",
    "z = set(x).difference(y)\n",
    "print(z)\n"
   ]
  },
  {
   "cell_type": "markdown",
   "id": "05dd5ec7",
   "metadata": {},
   "source": [
    "# exercise 17"
   ]
  },
  {
   "cell_type": "code",
   "execution_count": 151,
   "id": "e7e69d94",
   "metadata": {},
   "outputs": [
    {
     "name": "stdout",
     "output_type": "stream",
     "text": [
      "cylinder\n"
     ]
    }
   ],
   "source": [
    "d = {'section':{'production':['wheel','tyre',{'engine':['pistons','valves','cylinder']}, 'door']}, 'development':'gearbox'}\n",
    "\n",
    "print(d['section']['production'][2]['engine'][2])"
   ]
  },
  {
   "cell_type": "markdown",
   "id": "07504f50",
   "metadata": {},
   "source": [
    "# exercise 18"
   ]
  },
  {
   "cell_type": "code",
   "execution_count": 28,
   "id": "065cbc70",
   "metadata": {},
   "outputs": [
    {
     "name": "stdout",
     "output_type": "stream",
     "text": [
      "2\n",
      "analyst\n",
      "['programmer', 'truck driver', 'analyst', 'agent', 'gardener']\n",
      "['scientist', 'programmer', 'truck driver', 'analyst', 'agent', 'gardener']\n",
      "agent\n",
      "analyst\n",
      "gardener\n",
      "programmer\n",
      "scientist\n",
      "truck driver\n",
      "original order: scientist\n",
      "original order: programmer\n",
      "original order: truck driver\n",
      "original order: analyst\n",
      "original order: agent\n",
      "original order: gardener\n",
      "['truck driver', 'scientist', 'programmer', 'gardener', 'analyst', 'agent']\n"
     ]
    }
   ],
   "source": [
    "careers = ['programmer', 'truck driver', 'analyst', 'agent']\n",
    "index = careers.index('analyst')\n",
    "print(index)\n",
    "\n",
    "if ('analyst' in careers):\n",
    "    print('analyst')\n",
    "\n",
    "careers.append('gardener')\n",
    "print(careers)\n",
    "\n",
    "\n",
    "careers.insert(0,'scientist')\n",
    "print(careers)\n",
    "\n",
    "#Print the list in alphabetical order\n",
    "sorted_careers = sorted(careers)\n",
    "for i in sorted_careers:\n",
    "    print(i)\n",
    "    \n",
    "#Print the list in its original order\n",
    "for i in careers:\n",
    "    print('original order:', i)\n",
    "    \n",
    "# Print the list in reverse alphabetical order\n",
    "print(sorted(careers, reverse=True))"
   ]
  },
  {
   "cell_type": "markdown",
   "id": "911875de",
   "metadata": {},
   "source": [
    "# exercise 19 ---Alphabet Slices"
   ]
  },
  {
   "cell_type": "code",
   "execution_count": 37,
   "id": "8b135769",
   "metadata": {},
   "outputs": [
    {
     "name": "stdout",
     "output_type": "stream",
     "text": [
      "['a', 'b', 'c']\n",
      "['d', 'e', 'f']\n",
      "['d', 'e', 'f', 'g', 'h', 'i', 'j']\n"
     ]
    }
   ],
   "source": [
    "#Store the first ten letters of the alphabet in a list\n",
    "list = ['a','b','c','d','e','f','g','h','i','j']\n",
    "\n",
    "#Use a slice to print out the first three letters of the alphabet\n",
    "\n",
    "print(list[:3])\n",
    "\n",
    "#Use a slice to print out any three letters from the middle of your list\n",
    "print(list[3:6])\n",
    "\n",
    "\n",
    "#Use a slice to print out the letters from any point in the middle of your list, to the end.\n",
    "print(list[3:10])"
   ]
  },
  {
   "cell_type": "markdown",
   "id": "5d7d8f79",
   "metadata": {},
   "source": [
    "# exercise 20"
   ]
  },
  {
   "cell_type": "code",
   "execution_count": 65,
   "id": "8903300f",
   "metadata": {},
   "outputs": [
    {
     "name": "stdout",
     "output_type": "stream",
     "text": [
      "True\n"
     ]
    }
   ],
   "source": [
    "if x == bool('passed'):\n",
    "    print(x)"
   ]
  },
  {
   "cell_type": "code",
   "execution_count": 66,
   "id": "3a2842e9",
   "metadata": {},
   "outputs": [
    {
     "name": "stdout",
     "output_type": "stream",
     "text": [
      "False\n"
     ]
    }
   ],
   "source": [
    "x = bool()\n",
    "print(x)"
   ]
  },
  {
   "cell_type": "markdown",
   "id": "269b94c1",
   "metadata": {},
   "source": [
    "# exercise 21"
   ]
  },
  {
   "cell_type": "code",
   "execution_count": 67,
   "id": "6ef3b639",
   "metadata": {},
   "outputs": [
    {
     "name": "stdout",
     "output_type": "stream",
     "text": [
      "holiday\n"
     ]
    }
   ],
   "source": [
    "string = 'St. Moritz is a nice location to visit over Christmas holidays!'\n",
    "if 'holiday' in string:\n",
    "    print('holiday')\n",
    "else: \n",
    "    print('not found')   "
   ]
  },
  {
   "cell_type": "markdown",
   "id": "68396138",
   "metadata": {},
   "source": [
    "# exercise 22"
   ]
  },
  {
   "cell_type": "code",
   "execution_count": 70,
   "id": "a3f95f79",
   "metadata": {},
   "outputs": [
    {
     "name": "stdout",
     "output_type": "stream",
     "text": [
      "[9, 8, 7, 6, 5, 4, 3, 2, 1, 0]\n"
     ]
    }
   ],
   "source": [
    "digits = [0, 1, 2, 3, 4, 5, 6, 7, 8, 9]\n",
    "digits.reverse()\n",
    "print(digits)"
   ]
  },
  {
   "cell_type": "markdown",
   "id": "5992e7f8",
   "metadata": {},
   "source": [
    "# exercise 23"
   ]
  },
  {
   "cell_type": "code",
   "execution_count": 72,
   "id": "d098ddc4",
   "metadata": {},
   "outputs": [
    {
     "name": "stdout",
     "output_type": "stream",
     "text": [
      "ac\n",
      "ad\n",
      "bc\n",
      "bd\n"
     ]
    }
   ],
   "source": [
    "#Write a Python program to create and display all combinations of letters, selecting each letter from a different key in a dictionary\n",
    "\n",
    "data = {'part 1':['a','b'], 'part 2':['c','d']}\n",
    "for i in data['part 1']:\n",
    "    for y in data['part 2']:\n",
    "        print(i + y)"
   ]
  },
  {
   "cell_type": "markdown",
   "id": "da8420b7",
   "metadata": {},
   "source": [
    "# exercise 24"
   ]
  },
  {
   "cell_type": "code",
   "execution_count": 78,
   "id": "89f5f6ab",
   "metadata": {},
   "outputs": [
    {
     "name": "stdout",
     "output_type": "stream",
     "text": [
      "255.41666666666666\n",
      "3065\n"
     ]
    }
   ],
   "source": [
    "electricity_bill = {\n",
    "        'January': 232,\n",
    "        'February': 245,\n",
    "        'March': 267,\n",
    "        'April': 223,\n",
    "        'May': 257,\n",
    "        'June': 284,\n",
    "        'July': 243,\n",
    "        'August': 120,\n",
    "        'September': 245,\n",
    "        'October': 278,\n",
    "        'November': 345,\n",
    "        'December': 326,\n",
    "}\n",
    "\n",
    "length = (len(electricity_bill))\n",
    "\n",
    "total_cost = (sum(electricity_bill.values()))\n",
    "\n",
    "average_bill = total_cost/length\n",
    "\n",
    "print(average_bill)\n",
    "print(total_cost)"
   ]
  },
  {
   "cell_type": "markdown",
   "id": "0d252181",
   "metadata": {},
   "source": [
    "# exercise 25"
   ]
  },
  {
   "cell_type": "code",
   "execution_count": 1,
   "id": "1d35deda",
   "metadata": {},
   "outputs": [
    {
     "name": "stdout",
     "output_type": "stream",
     "text": [
      "[91, 64, 47, 82, 67, 96]59\n",
      "F\n"
     ]
    }
   ],
   "source": [
    "grade =input([91,64,47,82,67,96])\n",
    "grade = int(grade)\n",
    "\n",
    "if grade > 90:\n",
    "    print('A')\n",
    "elif grade>= 80 and grade<=90:\n",
    "    print('B')\n",
    "elif grade>=70 and grade<=80:\n",
    "    print('C')\n",
    "elif grade>=60 and grade<=70:\n",
    "    print('D')\n",
    "else:\n",
    "    print('F')\n"
   ]
  },
  {
   "cell_type": "markdown",
   "id": "9c161c19",
   "metadata": {},
   "source": [
    "# exercise 26"
   ]
  },
  {
   "cell_type": "code",
   "execution_count": 5,
   "id": "6692cf23",
   "metadata": {},
   "outputs": [
    {
     "name": "stdout",
     "output_type": "stream",
     "text": [
      "August\n",
      "June\n"
     ]
    }
   ],
   "source": [
    "#temprature---> temp\n",
    "\n",
    "temp = {\n",
    "        'June': [25,25,26,27,25,25,24,27,28,28,31,32,33],\n",
    "        'July': [34,34,36,39,39,38,39,37,39,41,41,39,37],\n",
    "        'August': [37,37,36,37,35,35,34,37,38,34,32,33,31],\n",
    "}\n",
    "\n",
    "max_val = list(temp.values())\n",
    "max_key = list(temp.keys())\n",
    "\n",
    "min_val = list(temp.values())\n",
    "min_key = list(temp.keys())\n",
    "\n",
    "\n",
    "print(max_key[max_val.index(max(max_val))])\n",
    "\n",
    "print(min_key[min_val.index(min(min_val))])\n"
   ]
  },
  {
   "cell_type": "markdown",
   "id": "34104c31",
   "metadata": {},
   "source": [
    "# exercise 27"
   ]
  },
  {
   "cell_type": "code",
   "execution_count": 10,
   "id": "d7684fe9",
   "metadata": {},
   "outputs": [
    {
     "name": "stdout",
     "output_type": "stream",
     "text": [
      "[4, 16, 36, 64, 100]\n"
     ]
    }
   ],
   "source": [
    "list = [1,2,3,4,5,6,7,8,9,10]\n",
    "\n",
    "even_numbers = [i*i for i in list if i%2==0]\n",
    "\n",
    "print(even_numbers)"
   ]
  },
  {
   "cell_type": "code",
   "execution_count": 12,
   "id": "6d9050dc",
   "metadata": {},
   "outputs": [
    {
     "name": "stdout",
     "output_type": "stream",
     "text": [
      "2\n",
      "4\n",
      "6\n",
      "8\n",
      "10\n"
     ]
    }
   ],
   "source": [
    "def list_of_numbers(even):\n",
    "    \n",
    "    for i in even:\n",
    "        if i%2==0:\n",
    "            print(i)\n",
    "        \n",
    "        \n",
    "list = [1,2,3,4,5,6,7,8,9,10]\n",
    "\n",
    "list_of_numbers(list)"
   ]
  },
  {
   "cell_type": "markdown",
   "id": "596d24e5",
   "metadata": {},
   "source": [
    "# exercise 29"
   ]
  },
  {
   "cell_type": "code",
   "execution_count": 13,
   "id": "25a69af6",
   "metadata": {},
   "outputs": [
    {
     "name": "stdout",
     "output_type": "stream",
     "text": [
      "[my list]: 123456\n",
      "720\n"
     ]
    }
   ],
   "source": [
    "list_of_integers = input('[my list]: ')\n",
    "list = list_of_integers.split()\n",
    "\n",
    "a = 1\n",
    "for i in list_of_integers:\n",
    "    a = a * int(i)\n",
    "\n",
    "print(a)"
   ]
  },
  {
   "cell_type": "markdown",
   "id": "9e6d7930",
   "metadata": {},
   "source": [
    "# exercise 30"
   ]
  },
  {
   "cell_type": "code",
   "execution_count": 14,
   "id": "2f300454",
   "metadata": {},
   "outputs": [
    {
     "name": "stdout",
     "output_type": "stream",
     "text": [
      "[1, 2, 3, 4, 5]\n"
     ]
    }
   ],
   "source": [
    "def unique_list(numbers):\n",
    "    x = []\n",
    "    for i in numbers:\n",
    "        if i not in x:\n",
    "            x.append(i)\n",
    "    return x\n",
    "print(unique_list([1,2,3,3,3,3,4,5]))"
   ]
  },
  {
   "cell_type": "markdown",
   "id": "8f9b6876",
   "metadata": {},
   "source": [
    "# exercise 31"
   ]
  },
  {
   "cell_type": "code",
   "execution_count": 20,
   "id": "c497c1c2",
   "metadata": {},
   "outputs": [
    {
     "name": "stdout",
     "output_type": "stream",
     "text": [
      "Average of my_list is: 6\n"
     ]
    }
   ],
   "source": [
    "from statistics import mean\n",
    "\n",
    "def Average(x): \n",
    "    avg = mean(x) \n",
    "    return avg\n",
    "  \n",
    "my_list = [2,4,6,8,10] \n",
    "average = Average(my_list)\n",
    "  \n",
    "print(\"Average of my_list is:\", average)"
   ]
  },
  {
   "cell_type": "markdown",
   "id": "9e46d2fa",
   "metadata": {},
   "source": [
    "# exercise 32"
   ]
  },
  {
   "cell_type": "code",
   "execution_count": 33,
   "id": "b2c6fa25",
   "metadata": {},
   "outputs": [
    {
     "name": "stdout",
     "output_type": "stream",
     "text": [
      "{'fries': 2, 'burger': 3, 'eggs': 2, 'pasta': 3, 'pizza': 3, 'schnitzel': 3, 'salad': 3, 'water': 3, 'soda': 3, 'wine': 3, 'lemonade': 1, 'steak': 1}\n"
     ]
    }
   ],
   "source": [
    "\n",
    "#we are going to count the frequency of elements in a list using dictionary \n",
    "def CountFreq(order_list):\n",
    "    \n",
    "    #creating an empty dictionary\n",
    "    freq = {}\n",
    "    #Run a loop to travel through the list items\n",
    "    for i in order_list:\n",
    "        \n",
    "        #To count the frequency, check if the element exists in the dictionary .If yes, then increase the value present at the element key by 1, else add that element as key and set its value as 1.\n",
    "        if i in freq:\n",
    "            freq[i] += 1\n",
    "        else:\n",
    "            freq[i] = 1\n",
    "            \n",
    "     #Print the dictionary as the result       \n",
    "    print(freq)\n",
    "    \n",
    "order_list = [\n",
    "'fries', 'burger', 'eggs', 'pasta', 'pizza', 'schnitzel', 'salad', 'water',\n",
    "'soda', 'wine', 'eggs', 'pasta', 'pizza', 'schnitzel','salad','water',\n",
    "'soda', 'wine','pizza', 'schnitzel','soda', 'wine', 'lemonade', 'steak',\n",
    "'pasta','salad','fries', 'burger','water','burger']\n",
    "\n",
    "\n",
    "\n",
    "    \n",
    "CountFreq(order_list)  \n",
    "            "
   ]
  },
  {
   "cell_type": "markdown",
   "id": "12b7cd0e",
   "metadata": {},
   "source": [
    "# exercise 33"
   ]
  },
  {
   "cell_type": "code",
   "execution_count": 59,
   "id": "b7e87dd3",
   "metadata": {},
   "outputs": [
    {
     "name": "stdout",
     "output_type": "stream",
     "text": [
      "{'customer 1': {'name': 'John Smith', 'city': 'New York', 'nr_or_purchases': 3, 'items': ['coffee', 'cookies', 'milk']}, 'customer 2': {'name': 'Rebeca Collins', 'city': 'New York', 'nr_or_purchases': 1, 'items': ['sugar']}, 'customer 3': {'name': 'Edward Matthews', 'city': 'Boston', 'nr_or_purchases': 5, 'items': ['bananas', 'apples', 'oranges', 'cherries', 'berries']}, 'customer 4': {'name': 'Maria Simmons', 'city': 'Boston', 'nr_or_purchases': 3, 'items': ['ham', 'cheese', 'butter']}}\n"
     ]
    }
   ],
   "source": [
    "customers = {\n",
    "'customer 1':{'name': 'John Smith', 'city': 'New York', 'nr_or_purchases': 3, 'items':['coffee', 'cookies', 'milk']},\n",
    "'customer 2':{'name': 'Rebeca Collins', 'city': 'New York', 'nr_or_purchases': 1, 'items':['sugar']},\n",
    "'customer 3':{'name': 'Edward Matthews', 'city': 'Boston', 'nr_or_purchases': 4, 'items':['bananas', 'apples', 'oranges', 'cherries' ]},\n",
    "'customer 4':{'name': 'Maria Simmons', 'city': 'Boston', 'nr_or_purchases': 3, 'items':['ham', 'cheese', 'butter']}}\n",
    "\n",
    "\n",
    "#Edward Matthews bought also berries (add also +1 in the nr_or_purchases)\n",
    "customers['customer 3']['items'] = ['bananas', 'apples', 'oranges', 'cherries', 'berries']\n",
    "customers['customer 3']['nr_or_purchases'] = 5\n",
    "print(customers)\n",
    "\n",
    "\n"
   ]
  },
  {
   "cell_type": "code",
   "execution_count": 2,
   "id": "350d8d3c",
   "metadata": {},
   "outputs": [
    {
     "name": "stdout",
     "output_type": "stream",
     "text": [
      "{'customer 1': {'name': 'John Smith', 'city': 'New York', 'nr_or_purchases': 3, 'items': ['coffee', 'cookies', 'milk']}, 'customer 3': {'name': 'Edward Matthews', 'city': 'Boston', 'nr_or_purchases': 4, 'items': ['bananas', 'apples', 'oranges', 'cherries']}, 'customer 4': {'name': 'Maria Simmons', 'city': 'Boston', 'nr_or_purchases': 3, 'items': ['ham', 'cheese', 'butter']}}\n"
     ]
    }
   ],
   "source": [
    "#Remove Rebeca Collins she canceled the purchase\n",
    "\n",
    "customers = {\n",
    "'customer 1':{'name': 'John Smith', 'city': 'New York', 'nr_or_purchases': 3, 'items':['coffee', 'cookies', 'milk']},\n",
    "'customer 2':{'name': 'Rebeca Collins', 'city': 'New York', 'nr_or_purchases': 1, 'items':['sugar']},\n",
    "'customer 3':{'name': 'Edward Matthews', 'city': 'Boston', 'nr_or_purchases': 4, 'items':['bananas', 'apples', 'oranges', 'cherries' ]},\n",
    "'customer 4':{'name': 'Maria Simmons', 'city': 'Boston', 'nr_or_purchases': 3, 'items':['ham', 'cheese', 'butter']}}\n",
    "\n",
    "del customers['customer 2']\n",
    "\n",
    "print(customers)"
   ]
  },
  {
   "cell_type": "code",
   "execution_count": 3,
   "id": "fff5da3f",
   "metadata": {},
   "outputs": [
    {
     "name": "stdout",
     "output_type": "stream",
     "text": [
      "{'customer 1': {'name': 'John Smith', 'city': 'New York', 'nr_or_purchases': 3, 'items': ['coffee', 'cookies', 'milk']}, 'customer 2': {'name': 'Rebeca Collins', 'city': 'New York', 'nr_or_purchases': 1, 'items': ['sugar']}, 'customer 3': {'name': 'Edward Matthews', 'city': 'Boston', 'nr_or_purchases': 4, 'items': ['bananas', 'apples', 'oranges', 'cherries']}, 'customer 4': {'name': 'Maria Simmons', 'city': 'Boston', 'nr_or_purchases': 3, 'items': ['ham', 'cheese', 'butter']}, 'customers 5': {'name': 'Sophia Willis', 'city': 'Alabama', 'nr_or_purchases': 4, 'items': ['sugar', 'milk', 'butter', 'flour']}}\n"
     ]
    }
   ],
   "source": [
    "#Add new customer : Sophia Willis from Alabama, bought 4 items: sugar, milk, butter, flour\n",
    "\n",
    "customers = {\n",
    "'customer 1':{'name': 'John Smith', 'city': 'New York', 'nr_or_purchases': 3, 'items':['coffee', 'cookies', 'milk']},\n",
    "'customer 2':{'name': 'Rebeca Collins', 'city': 'New York', 'nr_or_purchases': 1, 'items':['sugar']},\n",
    "'customer 3':{'name': 'Edward Matthews', 'city': 'Boston', 'nr_or_purchases': 4, 'items':['bananas', 'apples', 'oranges', 'cherries' ]},\n",
    "'customer 4':{'name': 'Maria Simmons', 'city': 'Boston', 'nr_or_purchases': 3, 'items':['ham', 'cheese', 'butter']}}\n",
    "\n",
    "\n",
    "customers['customers 5'] = {'name': 'Sophia Willis', 'city': 'Alabama', 'nr_or_purchases': 4, 'items':['sugar', 'milk', 'butter', 'flour']}\n",
    "\n",
    "print(customers)"
   ]
  },
  {
   "cell_type": "code",
   "execution_count": 5,
   "id": "77c45cea",
   "metadata": {},
   "outputs": [
    {
     "name": "stdout",
     "output_type": "stream",
     "text": [
      "{'customer 1': {'name': 'John Smith', 'city': 'New York', 'nr_or_purchases': 3, 'items': ['coffee', 'cookies', 'milk']}, 'customer 2': {'name': 'Rebeca Collins', 'city': 'New York', 'nr_or_purchases': 1, 'items': ['sugar']}, 'customer 3': {'name': 'Edward Matthews', 'city': 'Boston', 'nr_or_purchases': 4, 'items': ['bananas', 'apples', 'oranges', 'cherries'], 'promo': 'coupon'}, 'customer 4': {'name': 'Maria Simmons', 'city': 'Boston', 'nr_or_purchases': 3, 'items': ['ham', 'cheese', 'butter']}}\n"
     ]
    }
   ],
   "source": [
    "#Use a for loop to add to every customer with more than 3 purchases a new key called 'promo' : 'coupon'\n",
    "\n",
    "customers = {\n",
    "'customer 1':{'name': 'John Smith', 'city': 'New York', 'nr_or_purchases': 3, 'items':['coffee', 'cookies', 'milk']},\n",
    "'customer 2':{'name': 'Rebeca Collins', 'city': 'New York', 'nr_or_purchases': 1, 'items':['sugar']},\n",
    "'customer 3':{'name': 'Edward Matthews', 'city': 'Boston', 'nr_or_purchases': 4, 'items':['bananas', 'apples', 'oranges', 'cherries' ]},\n",
    "'customer 4':{'name': 'Maria Simmons', 'city': 'Boston', 'nr_or_purchases': 3, 'items':['ham', 'cheese', 'butter']}}\n",
    "\n",
    "for customer in customers:\n",
    "    if customers[customer][\"nr_or_purchases\"] > 3:\n",
    "        customers[customer][\"promo\"] = \"coupon\"\n",
    "        \n",
    "        \n",
    "print(customers)        \n"
   ]
  },
  {
   "cell_type": "code",
   "execution_count": 14,
   "id": "68488755",
   "metadata": {},
   "outputs": [
    {
     "name": "stdout",
     "output_type": "stream",
     "text": [
      "{'customer 1': {'name': 'John Smith', 'city': 'New York', 'nr_or_purchases': 3, 'items': ['coffee', 'cookies', 'milk']}, 'customer 2': {'name': 'Rebeca Collins', 'city': 'New York', 'nr_or_purchases': 1, 'items': ['sugar']}, 'customer 3': {'name': 'Edward Matthews', 'city': 'Boston', 'nr_or_purchases': 4, 'items': ['bananas', 'apples', 'oranges', 'cherries'], 'promo': '10% discount coupon'}, 'customer 4': {'name': 'Maria Simmons', 'city': 'Boston', 'nr_or_purchases': 3, 'items': ['ham', 'cheese', 'butter'], 'promo': '10% discount coupon'}}\n"
     ]
    }
   ],
   "source": [
    "#Use a for loop to add to every customer from Boston a 10% discount in the 'promo' key\n",
    "\n",
    "customers = {\n",
    "'customer 1':{'name': 'John Smith', 'city': 'New York', 'nr_or_purchases': 3, 'items':['coffee', 'cookies', 'milk']},\n",
    "'customer 2':{'name': 'Rebeca Collins', 'city': 'New York', 'nr_or_purchases': 1, 'items':['sugar']},\n",
    "'customer 3':{'name': 'Edward Matthews', 'city': 'Boston', 'nr_or_purchases': 4, 'items':['bananas', 'apples', 'oranges', 'cherries' ]},\n",
    "'customer 4':{'name': 'Maria Simmons', 'city': 'Boston', 'nr_or_purchases': 3, 'items':['ham', 'cheese', 'butter']}}\n",
    "\n",
    "\n",
    "for customer in customers:\n",
    "    if customers[customer]['city'] == 'Boston':\n",
    "        customers[customer]['promo'] = '10% discount coupon'\n",
    "        \n",
    "        \n",
    "print(customers)        \n",
    "\n"
   ]
  },
  {
   "cell_type": "markdown",
   "id": "12e7550b",
   "metadata": {},
   "source": [
    "# exercise 35"
   ]
  },
  {
   "cell_type": "code",
   "execution_count": 2,
   "id": "55fe2dfd",
   "metadata": {
    "scrolled": true
   },
   "outputs": [
    {
     "name": "stdout",
     "output_type": "stream",
     "text": [
      "1\n",
      "8\n",
      "27\n",
      "64\n",
      "125\n",
      "216\n",
      "343\n",
      "512\n",
      "729\n",
      "1000\n"
     ]
    }
   ],
   "source": [
    "cubes = []\n",
    "for number in range(1, 11):\n",
    "    cube = number**3\n",
    "    cubes.append(cube)\n",
    "\n",
    "for cube in cubes:\n",
    "    print(cube)\n"
   ]
  },
  {
   "cell_type": "markdown",
   "id": "68e9787a",
   "metadata": {},
   "source": [
    "# exercise 34"
   ]
  },
  {
   "cell_type": "code",
   "execution_count": 3,
   "id": "18fd8acf",
   "metadata": {},
   "outputs": [
    {
     "name": "stdout",
     "output_type": "stream",
     "text": [
      "Enter the string:- Learning Python For Data Science\n",
      "LowerCase letter in the String 23\n",
      "UpperCase letter in the String 5\n"
     ]
    }
   ],
   "source": [
    "x=input(\"Enter the string:- \")\n",
    "def char(x):\n",
    "  u=0\n",
    "  l=0\n",
    "  for i in x:\n",
    "      if i>='a' and i<='z':\n",
    "       l+=1\n",
    "\n",
    "      if i >='A' and i<='Z':\n",
    "       u+=1\n",
    "\n",
    "  print(\"LowerCase letter in the String\",l)\n",
    "  print(\"UpperCase letter in the String\",u)\n",
    "char(x)"
   ]
  }
 ],
 "metadata": {
  "kernelspec": {
   "display_name": "Python 3 (ipykernel)",
   "language": "python",
   "name": "python3"
  },
  "language_info": {
   "codemirror_mode": {
    "name": "ipython",
    "version": 3
   },
   "file_extension": ".py",
   "mimetype": "text/x-python",
   "name": "python",
   "nbconvert_exporter": "python",
   "pygments_lexer": "ipython3",
   "version": "3.8.10"
  }
 },
 "nbformat": 4,
 "nbformat_minor": 5
}
